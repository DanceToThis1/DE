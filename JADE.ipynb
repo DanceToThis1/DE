{
 "cells": [
  {
   "cell_type": "code",
   "execution_count": 7,
   "metadata": {},
   "outputs": [],
   "source": [
    "import numpy as np\n",
    "import matplotlib.pyplot as plt\n",
    "import datetime\n",
    "import random\n",
    "from scipy.stats import cauchy\n",
    "\n",
    "\n",
    "def jade(fobj, bounds, popsize=20, its=1000, goal=0, c=0.5):\n",
    "    dimensions = len(bounds)\n",
    "    pop = np.random.rand(popsize, dimensions)\n",
    "    min_b, max_b = np.asarray(bounds).T\n",
    "    diff = np.fabs(min_b - max_b)\n",
    "    population = min_b + pop * diff\n",
    "    population_new = np.random.rand(popsize, dimensions)\n",
    "    for i in range(len(population_new)):\n",
    "        population_new[i] = pop[i]\n",
    "    mut = 0.5\n",
    "    mean_cr = 0.5\n",
    "    mean_mut = 0.5\n",
    "    a = []\n",
    "    for i in range(its):\n",
    "        s_mut = []\n",
    "        s_cr = []\n",
    "        matrix_sort(population, fobj, pop)\n",
    "        best = population[0]\n",
    "        fitness_best = fobj(best)\n",
    "        fitness = np.asarray([fobj(ind) for ind in population])\n",
    "        for j in range(popsize):\n",
    "            p = int(np.random.rand() * popsize)\n",
    "            idx_x_best_p = random.randint(0, p)\n",
    "            x_best_p = population[idx_x_best_p]\n",
    "            idxs = [idx for idx in range(popsize) if idx != j]\n",
    "            x_r1, x_r2 = population[np.random.choice(idxs, 2, replace=False)]\n",
    "            idx_x_r2 = random.randint(0, len(population) + len(a) - 3)\n",
    "            if idx_x_r2 >= (len(population) - 2):\n",
    "                x_r2 = a[idx_x_r2 - len(population) + 2]\n",
    "            mut = cauchy.rvs(loc=mean_mut, scale=0.1)\n",
    "            while mut < 0 or mut > 1:\n",
    "                mut = cauchy.rvs(loc=mean_mut, scale=0.1)\n",
    "            mutant = np.clip(population[j] + mut * (x_best_p - population[j]) + mut * (x_r1 - x_r2), min_b, max_b)\n",
    "            cr = random.gauss(mean_cr, 0.1)\n",
    "            cross_points = np.random.rand(dimensions) < cr\n",
    "            if not np.any(cross_points):\n",
    "                cross_points[np.random.randint(0, dimensions)] = True\n",
    "            trial = np.where(cross_points, mutant, population[j])\n",
    "            f = fobj(trial)\n",
    "            if f < fitness[j]:\n",
    "                population_new[j] = trial\n",
    "                a.append(population[j])\n",
    "                s_cr.append(cr)\n",
    "                s_mut.append(mut)\n",
    "            else:\n",
    "                population_new[j] = population[j]\n",
    "        while len(a) > popsize:\n",
    "            index = random.randint(0, len(a)-1)\n",
    "            a.pop(index)\n",
    "        for k in range(len(population_new)):\n",
    "            population[k] = population_new[k]\n",
    "        mean_cr = (1 - c) * mean_cr + c * np.mean(s_cr)\n",
    "        mean_mut = (1 - c) * mean_mut + c * (sum(ff ** 2 for ff in s_mut) / sum(s_mut))\n",
    "        if np.fabs(fitness_best - goal) < 1e-6:\n",
    "            break\n",
    "        yield best, fitness_best"
   ]
  },
  {
   "cell_type": "code",
   "execution_count": 8,
   "metadata": {},
   "outputs": [
    {
     "name": "stdout",
     "output_type": "stream",
     "text": [
      "(array([-2.31054466e-05,  1.10315607e-05]), 7.243607252327422e-05)\n"
     ]
    },
    {
     "data": {
      "image/png": "[encoded data removed]",
      "text/plain": [
       "<Figure size 432x288 with 1 Axes>"
      ]
     },
     "metadata": {
      "needs_background": "light"
     },
     "output_type": "display_data"
    }
   ],
   "source": [
    "def ackley(x):\n",
    "    p1 = -0.2 * ((0.5 * sum(x ** 2)) ** 0.5)\n",
    "    p2 = 0.5 * (sum(np.cos(2 * np.pi * x)))\n",
    "    return np.exp(1) + 20 - 20 * np.exp(p1) - np.exp(p2)\n",
    "\n",
    "\n",
    "def ackley_de():\n",
    "    it = list(jade(ackley, [(-32.768, 32.768)] * 2, popsize=20, its=50))\n",
    "    print(it[-1])\n",
    "    x, f = zip(*it)\n",
    "    plt.plot(f, label='Ackley with f = 0.5, cr = 0.5, np = 20')\n",
    "    plt.yscale('log')\n",
    "    plt.legend()\n",
    "\n",
    "\n",
    "def matrix_sort(matrix, fobj, pop):\n",
    "    for i in range(len(matrix)):\n",
    "        for j in range(i, len(matrix)):\n",
    "            if fobj(matrix[i]) > fobj(matrix[j]):\n",
    "                pop[i] = matrix[i]\n",
    "                pop[j] = matrix[j]\n",
    "                matrix[i] = pop[j]\n",
    "                matrix[j] = pop[i]\n",
    "    return matrix\n",
    "ackley_de()"
   ]
  },
  {
   "cell_type": "code",
   "execution_count": 16,
   "metadata": {},
   "outputs": [
    {
     "ename": "TypeError",
     "evalue": "object of type 'generator' has no len()",
     "output_type": "error",
     "traceback": [
      "\u001b[1;31m---------------------------------------------------------------------------\u001b[0m",
      "\u001b[1;31mTypeError\u001b[0m                                 Traceback (most recent call last)",
      "\u001b[1;32m<ipython-input-16-a7236fc39383>\u001b[0m in \u001b[0;36m<module>\u001b[1;34m\u001b[0m\n\u001b[0;32m      1\u001b[0m \u001b[0mresult\u001b[0m \u001b[1;33m=\u001b[0m \u001b[0mjade\u001b[0m\u001b[1;33m(\u001b[0m\u001b[0mackley\u001b[0m\u001b[1;33m,\u001b[0m \u001b[1;33m[\u001b[0m\u001b[1;33m(\u001b[0m\u001b[1;33m-\u001b[0m\u001b[1;36m32.768\u001b[0m\u001b[1;33m,\u001b[0m \u001b[1;36m32.768\u001b[0m\u001b[1;33m)\u001b[0m\u001b[1;33m]\u001b[0m \u001b[1;33m*\u001b[0m \u001b[1;36m2\u001b[0m\u001b[1;33m,\u001b[0m \u001b[0mpopsize\u001b[0m\u001b[1;33m=\u001b[0m\u001b[1;36m20\u001b[0m\u001b[1;33m,\u001b[0m \u001b[0mits\u001b[0m\u001b[1;33m=\u001b[0m\u001b[1;36m50\u001b[0m\u001b[1;33m)\u001b[0m\u001b[1;33m\u001b[0m\u001b[1;33m\u001b[0m\u001b[0m\n\u001b[1;32m----> 2\u001b[1;33m \u001b[0mprint\u001b[0m\u001b[1;33m(\u001b[0m\u001b[0mlen\u001b[0m\u001b[1;33m(\u001b[0m\u001b[0mresult\u001b[0m\u001b[1;33m)\u001b[0m\u001b[1;33m)\u001b[0m\u001b[1;33m\u001b[0m\u001b[1;33m\u001b[0m\u001b[0m\n\u001b[0m",
      "\u001b[1;31mTypeError\u001b[0m: object of type 'generator' has no len()"
     ]
    }
   ],
   "source": [
    "result = jade(ackley, [(-32.768, 32.768)] * 2, popsize=20, its=50)\n",
    "print()"
   ]
  },
  {
   "cell_type": "code",
   "execution_count": null,
   "metadata": {},
   "outputs": [],
   "source": []
  }
 ],
 "metadata": {
  "kernelspec": {
   "display_name": "Python 3",
   "language": "python",
   "name": "python3"
  },
  "language_info": {
   "codemirror_mode": {
    "name": "ipython",
    "version": 3
   },
   "file_extension": ".py",
   "mimetype": "text/x-python",
   "name": "python",
   "nbconvert_exporter": "python",
   "pygments_lexer": "ipython3",
   "version": "3.7.9"
  }
 },
 "nbformat": 4,
 "nbformat_minor": 4
}
