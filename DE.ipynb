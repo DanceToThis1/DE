{
 "cells": [
  {
   "cell_type": "code",
   "execution_count": 6,
   "metadata": {},
   "outputs": [
    {
     "data": {
      "image/png": "[encoded data removed]",
      "text/plain": [
       "<Figure size 432x288 with 1 Axes>"
      ]
     },
     "metadata": {
      "needs_background": "light"
     },
     "output_type": "display_data"
    }
   ],
   "source": [
    "import numpy as np\n",
    "import matplotlib.pyplot as plt\n",
    "\n",
    "\n",
    "def de(fobj, bounds, mut=0.8, crossp=0.7, popsize=20, its=1000):\n",
    "    dimensions = len(bounds)\n",
    "    pop = np.random.rand(popsize, dimensions)\n",
    "    min_b, max_b = np.asarray(bounds).T\n",
    "    diff = np.fabs(min_b - max_b)\n",
    "    pop_denorm = min_b + pop * diff\n",
    "    fitness = np.asarray([fobj(ind) for ind in pop_denorm])\n",
    "    best_idx = np.argmin(fitness)\n",
    "    best = pop_denorm[best_idx]\n",
    "    for i in range(its):\n",
    "        for j in range(popsize):\n",
    "            idxs = [idx for idx in range(popsize) if idx != j]\n",
    "            a, b, c = pop[np.random.choice(idxs, 3, replace = False)]\n",
    "            mutant = np.clip(a + mut * (b - c), 0, 1)\n",
    "            cross_points = np.random.rand(dimensions) < crossp\n",
    "            if not np.any(cross_points):\n",
    "                cross_points[np.random.randint(0, dimensions)] = True\n",
    "            trial = np.where(cross_points, mutant, pop[j])\n",
    "            trial_denorm = min_b + trial * diff\n",
    "            f = fobj(trial_denorm)\n",
    "            if f < fitness[j]:\n",
    "                fitness[j] = f\n",
    "                pop[j] = trial\n",
    "                if f < fitness[best_idx]:\n",
    "                    best_idx = j\n",
    "                    best = trial_denorm\n",
    "        yield best, fitness[best_idx]\n",
    "        \n",
    "def fobj(x):\n",
    "    return sum(x ** 2 - 10 * np.cos(2 * np.pi * x) + 10)\n",
    "\n",
    "# for mut in (0.3, 0.5, 0.9):\n",
    "#     it = list(de(fobj, [(-10, 10)] * 10, mut = mut , its=10000))    \n",
    "#     x, f = zip(*it)\n",
    "#     plt.plot(f, label='mut={}'.format(mut))\n",
    "#     plt.xscale('log')\n",
    "#     plt.yscale('log')\n",
    "    \n",
    "# for cr in (0.1, 0.3, 0.9):\n",
    "#     it = list(de(fobj, [(-10, 10)] * 10, crossp = cr , its=10000))    \n",
    "#     x, f = zip(*it)\n",
    "#     plt.plot(f, label='cr={}'.format(cr))\n",
    "#     plt.xscale('log')\n",
    "#     plt.yscale('log')\n",
    "    \n",
    "for popsize1 in (20, 50, 100):\n",
    "    it = list(de(fobj, [(-10, 10)] * 10, popsize = popsize1 , its=10000))    \n",
    "    x, f = zip(*it)\n",
    "    plt.plot(f, label='popsize={}'.format(popsize1))\n",
    "    plt.xscale('log')\n",
    "    plt.yscale('log')\n",
    "    \n",
    "# it = list(de(fobj, [(-10,10)]*10, its = 5000))\n",
    "# print(it[-1])\n",
    "# x, f = zip(*it)\n",
    "# plt.plot(f, label='de')\n",
    "plt.legend() \n",
    "\n",
    "          \n",
    "plt.savefig('第3个参数改变效果')"
   ]
  },
  {
   "cell_type": "code",
   "execution_count": null,
   "metadata": {},
   "outputs": [],
   "source": []
  }
 ],
 "metadata": {
  "kernelspec": {
   "display_name": "Python 3",
   "language": "python",
   "name": "python3"
  },
  "language_info": {
   "codemirror_mode": {
    "name": "ipython",
    "version": 3
   },
   "file_extension": ".py",
   "mimetype": "text/x-python",
   "name": "python",
   "nbconvert_exporter": "python",
   "pygments_lexer": "ipython3",
   "version": "3.7.9"
  }
 },
 "nbformat": 4,
 "nbformat_minor": 4
}
