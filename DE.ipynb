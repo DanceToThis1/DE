{
 "cells": [
  {
   "cell_type": "code",
   "execution_count": 23,
   "metadata": {},
   "outputs": [],
   "source": [
    "import numpy as np\n",
    "import matplotlib.pyplot as plt\n",
    "import datetime\n",
    "\n",
    "def de(fobj, bounds, mut=0.8, crossp=0.7, popsize=20, its=1000):\n",
    "    dimensions = len(bounds)\n",
    "    pop = np.random.rand(popsize, dimensions)\n",
    "    min_b, max_b = np.asarray(bounds).T\n",
    "    diff = np.fabs(min_b - max_b)\n",
    "    pop_denorm = min_b + pop * diff\n",
    "    fitness = np.asarray([fobj(ind) for ind in pop_denorm])\n",
    "    best_idx = np.argmin(fitness)\n",
    "    best = pop_denorm[best_idx]\n",
    "    for i in range(its):\n",
    "        for j in range(popsize):\n",
    "            idxs = [idx for idx in range(popsize) if idx != j]\n",
    "            a, b, c = pop[np.random.choice(idxs, 3, replace = False)]\n",
    "            mutant = np.clip(a + mut * (b - c), 0, 1)\n",
    "            cross_points = np.random.rand(dimensions) < crossp\n",
    "            if not np.any(cross_points):\n",
    "                cross_points[np.random.randint(0, dimensions)] = True\n",
    "            trial = np.where(cross_points, mutant, pop[j])\n",
    "            trial_denorm = min_b + trial * diff\n",
    "            f = fobj(trial_denorm)\n",
    "            if f < fitness[j]:\n",
    "                fitness[j] = f\n",
    "                pop[j] = trial\n",
    "                if f < fitness[best_idx]:\n",
    "                    best_idx = j\n",
    "                    best = trial_denorm\n",
    "        yield best, fitness[best_idx]"
   ]
  },
  {
   "cell_type": "markdown",
   "metadata": {},
   "source": [
    "### 待优化函数 sum(x ** 2 - 10 * cos(2 * np.pi * x) + 10)"
   ]
  },
  {
   "cell_type": "code",
   "execution_count": 21,
   "metadata": {},
   "outputs": [
    {
     "name": "stdout",
     "output_type": "stream",
     "text": [
      "(array([ 1.17742438e-09,  7.65806973e-10, -8.04959654e-10, -9.94958638e-01,\n",
      "        1.33618983e-09,  8.34008418e-10, -1.61569602e-09,  1.02009956e-09,\n",
      "        3.95941058e-10, -1.51647583e-11]), 0.9949590570932898)\n"
     ]
    },
    {
     "data": {
      "image/png": "[encoded data removed]",
      "text/plain": [
       "<Figure size 432x288 with 1 Axes>"
      ]
     },
     "metadata": {
      "needs_background": "light"
     },
     "output_type": "display_data"
    }
   ],
   "source": [
    "def fobj(x):\n",
    "    return sum(x ** 2 - 10 * np.cos(2 * np.pi * x) + 10)\n",
    "\n",
    "def fobj_test():\n",
    "    it = list(de(fobj, [(-10,10)] * 10, mut = 0.5, crossp = 0.9, popsize = 100, its = 10000))\n",
    "    print(it[-1])\n",
    "    x, f = zip(*it)\n",
    "    plt.plot(f, label='de')\n",
    "    plt.xscale('log')\n",
    "    plt.yscale('log')\n",
    "    plt.legend() \n",
    "    plt.savefig('sum (xx - 10cos(2 pi x) + 10)优化效果')\n",
    "fobj_test()"
   ]
  },
  {
   "cell_type": "code",
   "execution_count": 26,
   "metadata": {},
   "outputs": [
    {
     "name": "stdout",
     "output_type": "stream",
     "text": [
      "(array([-1.20164323e-09, -1.19488064e-09,  7.95417066e-11, -7.68418218e-10,\n",
      "        1.04719788e-10,  1.45284673e-09, -1.15292131e-09, -4.70500083e-10,\n",
      "       -1.13010756e-09,  7.68899611e-10]), 0.0)\n",
      "0:01:19.207995\n"
     ]
    },
    {
     "data": {
      "image/png": "[encoded data removed]",
      "text/plain": [
       "<Figure size 432x288 with 1 Axes>"
      ]
     },
     "metadata": {
      "needs_background": "light"
     },
     "output_type": "display_data"
    }
   ],
   "source": [
    "start = datetime.datetime.now()\n",
    "fobj_test()\n",
    "end = datetime.datetime.now()\n",
    "print(end - start)"
   ]
  },
  {
   "cell_type": "markdown",
   "metadata": {},
   "source": [
    "### 修改参数对于函数优化有什么影响"
   ]
  },
  {
   "cell_type": "code",
   "execution_count": 19,
   "metadata": {},
   "outputs": [],
   "source": [
    "# for mut in (0.3, 0.5, 0.9):\n",
    "#     it = list(de(fobj, [(-10, 10)] * 10, mut = mut , its=10000))    \n",
    "#     x, f = zip(*it)\n",
    "#     plt.plot(f, label='mut={}'.format(mut))\n",
    "#     plt.xscale('log')\n",
    "#     plt.yscale('log')\n",
    "    \n",
    "# for cr in (0.1, 0.3, 0.9):\n",
    "#     it = list(de(fobj, [(-10, 10)] * 10, crossp = cr , its=10000))    \n",
    "#     x, f = zip(*it)\n",
    "#     plt.plot(f, label='cr={}'.format(cr))\n",
    "#     plt.xscale('log')\n",
    "#     plt.yscale('log')\n",
    "    \n",
    "# for popsize1 in (20, 50, 100):\n",
    "#     it = list(de(fobj, [(-10, 10)] * 10, popsize = popsize1 , its=10000))    \n",
    "#     x, f = zip(*it)\n",
    "#     plt.plot(f, label='popsize={}'.format(popsize1))\n",
    "#     plt.xscale('log')\n",
    "#     plt.yscale('log')"
   ]
  },
  {
   "cell_type": "markdown",
   "metadata": {},
   "source": [
    "### 待优化函数3（cos xy）+ x + y"
   ]
  },
  {
   "cell_type": "code",
   "execution_count": 25,
   "metadata": {},
   "outputs": [
    {
     "name": "stdout",
     "output_type": "stream",
     "text": [
      "(array([-3.94824346, -4.        ]), -10.937409790793282)\n",
      "0:00:00.221963\n"
     ]
    },
    {
     "data": {
      "image/png": "[encoded data removed]",
      "text/plain": [
       "<Figure size 432x288 with 1 Axes>"
      ]
     },
     "metadata": {
      "needs_background": "light"
     },
     "output_type": "display_data"
    }
   ],
   "source": [
    "def fobj1(x):\n",
    "    xy = 1\n",
    "    for i in x:\n",
    "        xy *= i\n",
    "    return 3 * np.cos(xy) + sum(x)\n",
    "\n",
    "def fobj_test1():\n",
    "    it = list(de(fobj1, [(-4,4)] * 2, mut = 0.5, crossp = 0.1, its = 100))\n",
    "    print(it[-1])\n",
    "    x, f = zip(*it)\n",
    "    plt.plot(f, label='de')\n",
    "    plt.legend() \n",
    "    plt.savefig('3（cos xy）+ x + y 优化效果')\n",
    "start = datetime.datetime.now()\n",
    "fobj_test1()\n",
    "end = datetime.datetime.now()\n",
    "print(end - start)"
   ]
  },
  {
   "cell_type": "code",
   "execution_count": null,
   "metadata": {},
   "outputs": [],
   "source": []
  }
 ],
 "metadata": {
  "kernelspec": {
   "display_name": "Python 3",
   "language": "python",
   "name": "python3"
  },
  "language_info": {
   "codemirror_mode": {
    "name": "ipython",
    "version": 3
   },
   "file_extension": ".py",
   "mimetype": "text/x-python",
   "name": "python",
   "nbconvert_exporter": "python",
   "pygments_lexer": "ipython3",
   "version": "3.7.9"
  }
 },
 "nbformat": 4,
 "nbformat_minor": 4
}
