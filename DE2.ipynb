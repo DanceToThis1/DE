{
 "cells": [
  {
   "cell_type": "markdown",
   "metadata": {},
   "source": [
    "JDE\n",
    "$$\n",
    "F_{i,G+1}=\n",
    "\\begin{cases}\n",
    "F_l+rand_1*F_u, &if\\ rand_2\\lt \\tau_1\\\\\n",
    "F_{i,G}, &otherwise\n",
    "\\end{cases}\n",
    "$$\n",
    "$$\n",
    "CR_{i,G+1}=\n",
    "\\begin{cases}\n",
    "rand_3, &if\\ rand_4\\lt \\tau_2\\\\\n",
    "CR_{i,G}, &otherwise\n",
    "\\end{cases}\n",
    "$$\n",
    "$$rand_j\\in[0,1],\\tau_1=\\tau_2=0.1,F_l=0.1,F_u=0.9$$"
   ]
  },
  {
   "cell_type": "code",
   "execution_count": 3,
   "metadata": {},
   "outputs": [],
   "source": [
    "import numpy as np\n",
    "import matplotlib.pyplot as plt\n",
    "import datetime\n",
    "def jde(fobj, bounds, mut=0.5, crossp=0.9, popsize=20, its=1000, goal = 0):\n",
    "    dimensions = len(bounds)\n",
    "    pop = np.random.rand(popsize, dimensions)\n",
    "    min_b, max_b = np.asarray(bounds).T\n",
    "    diff = np.fabs(min_b - max_b)\n",
    "    pop_denorm = min_b + pop * diff\n",
    "    fitness = np.asarray([fobj(ind) for ind in pop_denorm])\n",
    "    best_idx = np.argmin(fitness)\n",
    "    best = pop_denorm[best_idx]\n",
    "    for i in range(its):\n",
    "        for j in range(popsize):\n",
    "            idxs = [idx for idx in range(popsize) if idx != j]\n",
    "            a, b, c = pop[np.random.choice(idxs, 3, replace = False)]\n",
    "            mutant = np.clip(a + mut * (b - c), 0, 1)\n",
    "            cross_points = np.random.rand(dimensions) < crossp\n",
    "            randj = np.random.rand(4)\n",
    "            if randj[0]<0.1:\n",
    "                mut = 0.1+randj[1]*0.9\n",
    "            if randj[2]<0.1:\n",
    "                crossp = randj[3]\n",
    "            if not np.any(cross_points):\n",
    "                cross_points[np.random.randint(0, dimensions)] = True\n",
    "            trial = np.where(cross_points, mutant, pop[j])\n",
    "            trial_denorm = min_b + trial * diff\n",
    "            f = fobj(trial_denorm)\n",
    "            if f < fitness[j]:\n",
    "                fitness[j] = f\n",
    "                pop[j] = trial\n",
    "                if f < fitness[best_idx]:\n",
    "                    best_idx = j\n",
    "                    best = trial_denorm  \n",
    "        if(np.fabs(min(fitness) - goal) < 1e-6):\n",
    "            break\n",
    "        yield best, fitness[best_idx]"
   ]
  },
  {
   "cell_type": "markdown",
   "metadata": {},
   "source": [
    "SaDE策略池中四个策略,rand_1,rand_to_best_2,rand_2,current_to_rand_1\n",
    "开始每个策略被选择的概率相等,在每一代对于每个策略都考虑使用这个策略生成的变异向量,这些变异向量进入下一次迭代的数量记为$ns_{k,G}$,反之记为$nf_{k,G}$,这样记录LP代，LP称为学习期。LP溢出时就删除最早的记录，将最新生成的数字再填写进去。于是再最初的LP代之后将基于成功和失败记忆在之后的每代更新选择不同策略的概率。"
   ]
  },
  {
   "cell_type": "markdown",
   "metadata": {},
   "source": [
    "首先在前LP代，对于NP个个体其中一个，生成一个随机数，由随机数确定采用什么变异策略（每种策略被选择的概率暂时相等）。然后根据选择的策略执行相应的变异函数（选择几个其他个体或最优个体进行变异操作）得到变异个体，之后交叉，判断能否进入下一次迭代，记录进成功或失败表格。\n",
    "在LP代之后，选择某个变异策略的概率每代都会变化，这个变化根据成功和失败的两个表格得出。（表格记得清零），然后更新表格。（取余LP）"
   ]
  },
  {
   "cell_type": "code",
   "execution_count": null,
   "metadata": {},
   "outputs": [],
   "source": [
    "import numpy as np\n",
    "def sade(fobj, bounds, mut=0.5, crossp=0.9, popsize=20, its=1000, goal = 0):\n",
    "    dimensions = len(bounds)\n",
    "    pop = np.random.rand(popsize, dimensions)\n",
    "    min_b, max_b = np.asarray(bounds).T\n",
    "    diff = np.fabs(min_b - max_b)\n",
    "    pop_denorm = min_b + pop * diff\n",
    "    fitness = np.asarray([fobj(ind) for ind in pop_denorm])\n",
    "    best_idx = np.argmin(fitness)\n",
    "    best = pop_denorm[best_idx]\n",
    "    sp = strategy_probability = [0.25, 0.25, 0.25, 0.25]\n",
    "    lp = learning_period = 5\n",
    "    success_memory = failure_memory = np.zeros([lp, 4])\n",
    "    for i in range (lp):\n",
    "        for j in range (popsize):\n",
    "            idxs = [idx for idx in range(popsize) if idx != j]\n",
    "            a, b, c, d, e = pop[np.random.choice(idxs, 5, replace = False)]\n",
    "            rand_sp = np.random.rand()\n",
    "            memory_colume = -1\n",
    "            if(rand_sp < 0.25):\n",
    "                memory_colume = 0\n",
    "                trial = rand_1_bin(a, b, c, mut)\n",
    "            elif(rand_sp < 0.5):\n",
    "                memory_colume = 1\n",
    "                trial = rand_to_best_2_bin()\n",
    "            elif(rand_sp < 0.75):\n",
    "                memory_colume = 2\n",
    "                trial = rand_2_bin()\n",
    "            else:\n",
    "                memory_colume = 3\n",
    "                trial = current_to_rand_1_bin()\n",
    "            trial_denorm = min_b + trial * diff\n",
    "            f = fobj(trial_denorm)\n",
    "            if f < fitness[j]:\n",
    "                fitness[j] = f\n",
    "                pop[j] = trial\n",
    "                success_memory[i, memory_colume] += 1\n",
    "                if f < fitness[best_idx]:\n",
    "                    best_idx = j\n",
    "                    best = trial_denorm\n",
    "            else:\n",
    "                failure_memory[i, memory_colume] += 1"
   ]
  },
  {
   "cell_type": "code",
   "execution_count": null,
   "metadata": {},
   "outputs": [],
   "source": [
    "def rand_1_bin(a, b, c, mut):\n",
    "    mutant = np.clip(a + mut * (b - c), 0, 1)\n",
    "    cross_points = np.random.rand(dimensions) < crossp\n",
    "    if not np.any(cross_points):\n",
    "        cross_points[np.random.randint(0, dimensions)] = True\n",
    "    trial = np.where(cross_points, mutant, pop[j])\n",
    "    return trial\n",
    "def rand_to_best_2_bin()"
   ]
  },
  {
   "cell_type": "code",
   "execution_count": null,
   "metadata": {},
   "outputs": [],
   "source": []
  },
  {
   "cell_type": "code",
   "execution_count": 6,
   "metadata": {},
   "outputs": [],
   "source": [
    "def Rastrigin(x):\n",
    "    return sum(x ** 2 - 10 * np.cos(2 * np.pi * x) + 10)\n",
    "def Rastrigin_jde():\n",
    "    start = datetime.datetime.now()\n",
    "    it = list(jde(Rastrigin, [(-5.12,5.12)] * 30, mut = 0.5, crossp = 0.9, popsize = 100, its = 2000))\n",
    "    print(it[-1])\n",
    "    x, f = zip(*it)\n",
    "    plt.plot(f, label='Rastrigin with jde')\n",
    "    plt.yscale('log')\n",
    "    plt.legend()\n",
    "    plt.savefig('Rastrigin with jde')\n",
    "    end = datetime.datetime.now()\n",
    "    print(end - start)"
   ]
  },
  {
   "cell_type": "code",
   "execution_count": null,
   "metadata": {},
   "outputs": [],
   "source": [
    "def jde(fobj, bounds, mut=0.5, crossp=0.9, popsize=20, its=1000, goal = 0):\n",
    "    dimensions = len(bounds)\n",
    "    pop = np.random.rand(popsize, dimensions)\n",
    "    min_b, max_b = np.asarray(bounds).T\n",
    "    diff = np.fabs(min_b - max_b)\n",
    "    pop_denorm = min_b + pop * diff\n",
    "    fitness = np.asarray([fobj(ind) for ind in pop_denorm])\n",
    "    best_idx = np.argmin(fitness)\n",
    "    best = pop_denorm[best_idx]\n",
    "    for i in range(its):\n",
    "        for j in range(popsize):\n",
    "            idxs = [idx for idx in range(popsize) if idx != j]\n",
    "            a, b, c = pop[np.random.choice(idxs, 3, replace = False)]\n",
    "            mutant = np.clip(a + mut * (b - c), 0, 1)\n",
    "            cross_points = np.random.rand(dimensions) < crossp\n",
    "            if not np.any(cross_points):\n",
    "                cross_points[np.random.randint(0, dimensions)] = True\n",
    "            trial = np.where(cross_points, mutant, pop[j])\n",
    "            trial_denorm = min_b + trial * diff\n",
    "            f = fobj(trial_denorm)\n",
    "            if f < fitness[j]:\n",
    "                fitness[j] = f\n",
    "                pop[j] = trial\n",
    "                if f < fitness[best_idx]:\n",
    "                    best_idx = j\n",
    "                    best = trial_denorm  \n",
    "        if(np.fabs(min(fitness) - goal) < 1e-6):\n",
    "            break\n",
    "        yield best, fitness[best_idx]"
   ]
  },
  {
   "cell_type": "code",
   "execution_count": null,
   "metadata": {},
   "outputs": [],
   "source": []
  }
 ],
 "metadata": {
  "kernelspec": {
   "display_name": "Python 3",
   "language": "python",
   "name": "python3"
  },
  "language_info": {
   "codemirror_mode": {
    "name": "ipython",
    "version": 3
   },
   "file_extension": ".py",
   "mimetype": "text/x-python",
   "name": "python",
   "nbconvert_exporter": "python",
   "pygments_lexer": "ipython3",
   "version": "3.7.9"
  }
 },
 "nbformat": 4,
 "nbformat_minor": 4
}
