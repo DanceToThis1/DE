{
 "cells": [
  {
   "cell_type": "markdown",
   "metadata": {},
   "source": [
    "DE/rand-1-bin "
   ]
  },
  {
   "cell_type": "code",
   "execution_count": 2,
   "metadata": {},
   "outputs": [],
   "source": [
    "import numpy as np\n",
    "import matplotlib.pyplot as plt\n",
    "import datetime\n",
    "def de(fobj, bounds, mut=0.9, cr=0.1, popsize=20, its=1000, goal = 0):\n",
    "    dimensions = len(bounds)\n",
    "    pop = np.random.rand(popsize, dimensions)\n",
    "    min_b, max_b = np.asarray(bounds).T\n",
    "    diff = np.fabs(min_b - max_b)\n",
    "    population = min_b + pop * diff\n",
    "    fitness = np.asarray([fobj(ind) for ind in population])\n",
    "    best_idx = np.argmin(fitness)\n",
    "    best = population[best_idx]\n",
    "    for i in range(its):\n",
    "        for j in range(popsize):\n",
    "            idxs = [idx for idx in range(popsize) if idx != j]\n",
    "            a, b, c = population[np.random.choice(idxs, 3, replace = False)]\n",
    "            mutant = np.clip(a + mut * (b - c), min_b, max_b)\n",
    "            cross_points = np.random.rand(dimensions) < cr\n",
    "            if not np.any(cross_points):\n",
    "                cross_points[np.random.randint(0, dimensions)] = True\n",
    "            trial = np.where(cross_points, mutant, population[j])\n",
    "            f = fobj(trial)\n",
    "            if f < fitness[j]:\n",
    "                fitness[j] = f\n",
    "                population[j] = trial\n",
    "                if f < fitness[best_idx]:\n",
    "                    best_idx = j\n",
    "                    best = trial  \n",
    "        if(np.fabs(min(fitness) - goal) < 1e-6):\n",
    "            break\n",
    "        yield best, fitness[best_idx]"
   ]
  },
  {
   "cell_type": "markdown",
   "metadata": {},
   "source": [
    "JDE\n",
    "$$\n",
    "F_{i,G+1}=\n",
    "\\begin{cases}\n",
    "F_l+rand_1*F_u, &if\\ rand_2\\lt \\tau_1\\\\\n",
    "F_{i,G}, &otherwise\n",
    "\\end{cases}\n",
    "$$\n",
    "$$\n",
    "CR_{i,G+1}=\n",
    "\\begin{cases}\n",
    "rand_3, &if\\ rand_4\\lt \\tau_2\\\\\n",
    "CR_{i,G}, &otherwise\n",
    "\\end{cases}\n",
    "$$\n",
    "$$rand_j\\in[0,1],\\tau_1=\\tau_2=0.1,F_l=0.1,F_u=0.9$$"
   ]
  },
  {
   "cell_type": "code",
   "execution_count": 3,
   "metadata": {},
   "outputs": [],
   "source": [
    "import numpy as np\n",
    "import matplotlib.pyplot as plt\n",
    "import datetime\n",
    "def jde(fobj, bounds, mut=0.5, cr=0.9, popsize=20, its=1000, goal = 0):\n",
    "    dimensions = len(bounds)\n",
    "    pop = np.random.rand(popsize, dimensions)\n",
    "    min_b, max_b = np.asarray(bounds).T\n",
    "    diff = np.fabs(min_b - max_b)\n",
    "    population = min_b + pop * diff\n",
    "    fitness = np.asarray([fobj(ind) for ind in population])\n",
    "    best_idx = np.argmin(fitness)\n",
    "    best = population[best_idx]\n",
    "    for i in range(its):\n",
    "        for j in range(popsize):\n",
    "            idxs = [idx for idx in range(popsize) if idx != j]\n",
    "            a, b, c = population[np.random.choice(idxs, 3, replace = False)]\n",
    "            mutant = np.clip(a + mut * (b - c), min_b, max_b)\n",
    "            cross_points = np.random.rand(dimensions) < cr\n",
    "            randj = np.random.rand(4)\n",
    "            if randj[0]<0.1:\n",
    "                mut = 0.1+randj[1]*0.9\n",
    "            if randj[2]<0.1:\n",
    "                crossp = randj[3]\n",
    "            if not np.any(cross_points):\n",
    "                cross_points[np.random.randint(0, dimensions)] = True\n",
    "            trial = np.where(cross_points, mutant, population[j])\n",
    "            f = fobj(trial)\n",
    "            if f < fitness[j]:\n",
    "                fitness[j] = f\n",
    "                population[j] = trial\n",
    "                if f < fitness[best_idx]:\n",
    "                    best_idx = j\n",
    "                    best = trial  \n",
    "        if(np.fabs(min(fitness) - goal) < 1e-6):\n",
    "            break\n",
    "        yield best, fitness[best_idx]"
   ]
  },
  {
   "cell_type": "markdown",
   "metadata": {},
   "source": [
    "SaDE策略池中四个策略,rand_1,rand_to_best_2,rand_2,current_to_rand_1\n",
    "开始每个策略被选择的概率相等,在每一代对于每个策略都考虑使用这个策略生成的变异向量,这些变异向量进入下一次迭代的数量记为$ns_{k,G}$,反之记为$nf_{k,G}$,这样记录LP代，LP称为学习期。LP溢出时就删除最早的记录，将最新生成的数字再填写进去。于是再最初的LP代之后将基于成功和失败记忆在之后的每代更新选择不同策略的概率。"
   ]
  },
  {
   "cell_type": "markdown",
   "metadata": {},
   "source": [
    "首先在前LP代，对于NP个个体其中一个，生成一个随机数，由随机数确定采用什么变异策略（每种策略被选择的概率暂时相等）。然后根据选择的策略执行相应的变异函数（选择几个其他个体或最优个体进行变异操作）得到变异个体，之后交叉，判断能否进入下一次迭代，记录进成功或失败表格。\n",
    "在LP代之后，选择某个变异策略的概率每代都会变化，这个变化根据成功和失败的两个表格得出。（表格记得清零），然后更新表格。"
   ]
  },
  {
   "cell_type": "markdown",
   "metadata": {},
   "source": [
    "进化有两个阶段，第一个阶段是学习阶段，学习阶段设置为五次迭代。\n",
    "设置策略池，其中有四种变异策略，在学习阶段生成每个变异向量时使用四种变异策略的概率是相等的。设置两个矩阵分别记录使用每个策略产生的变异向量进入下一代的数量和未进入下一代的数量。这样可以衡量每个策略产生变异向量的质量。在变异阶段每一次迭代中根据每个策略的成功率来计算每个策略被选择的概率。同时这次迭代中每个策略的成功计数都取代原来记录中最早的记录。\n",
    "F在整个迭代中始终设置为N（0.5，0.3）\n",
    "Cr在学习阶段设置为N（0.5，0.1），并根据策略的不同，分别记录使用每个策略产生的进入下一次迭代的变异向量所用的cr值，在迭代阶段cr根据变异策略的不同设置以为cr记录的中位数为平均数，以0.1为标准差的正态分布的随机数。并每个策略对应的CR值。\n"
   ]
  },
  {
   "cell_type": "code",
   "execution_count": 4,
   "metadata": {},
   "outputs": [],
   "source": [
    "import numpy as np\n",
    "import pandas as pd\n",
    "import random\n",
    "import matplotlib.pyplot as plt\n",
    "import statistics\n",
    "\n",
    "def sade(fobj, bounds, popsize=20, its=1000, goal = 0):\n",
    "    dimensions = len(bounds)\n",
    "    pop = np.random.rand(popsize, dimensions)\n",
    "    min_b, max_b = np.asarray(bounds).T\n",
    "    diff = np.fabs(min_b - max_b)\n",
    "    population = min_b + pop * diff\n",
    "    fitness = np.asarray([fobj(ind) for ind in population])\n",
    "    best_idx = np.argmin(fitness)\n",
    "    best = population[best_idx]\n",
    "    sp = strategy_probability = [0.25] * 4\n",
    "    lp = learning_period = 5\n",
    "    success_memory = np.zeros([lp, 4])\n",
    "    failure_memory = np.zeros([lp, 4])\n",
    "    cr_memory = [[],[],[],[]]\n",
    "    for i in range (lp):\n",
    "        for j in range (popsize):\n",
    "            popj = population[j]\n",
    "            idxs = [idx for idx in range(popsize) if idx != j]\n",
    "            a, b, c, d, e = population[np.random.choice(idxs, 5, replace = False)]\n",
    "            strategy_num = -1\n",
    "            mut = random.gauss(0.5, 0.3)\n",
    "            cr = random.gauss(0.5, 0.1)\n",
    "            if((cr < 0) or (cr > 1)):\n",
    "                cr = random.gauss(0.5, 0.1)\n",
    "            rand_sp = np.random.rand()\n",
    "            if(rand_sp < sp[0]):\n",
    "                strategy_num = 0\n",
    "                trial = rand_1_bin(a, b, c, mut, min_b, max_b, popj, dimensions, cr)\n",
    "            elif(rand_sp < sum(sp[:2])):\n",
    "                strategy_num = 1\n",
    "                trial = rand_to_best_2_bin(a, b, c, d, mut, min_b, max_b, popj, dimensions, best, cr)\n",
    "            elif(rand_sp < sum(sp[:3])):\n",
    "                strategy_num = 2\n",
    "                trial = rand_2_bin(a, b, c, d, e, mut, min_b, max_b, popj, dimensions, cr)\n",
    "            else:\n",
    "                strategy_num = 3\n",
    "                trial = current_to_rand_1_bin(a, b, c, popj, mut, min_b, max_b)\n",
    "            f = fobj(trial)\n",
    "            if f < fitness[j]:\n",
    "                fitness[j] = f\n",
    "                population[j] = trial\n",
    "                cr_memory[strategy_num].append(cr)\n",
    "                success_memory[i, strategy_num] += 1\n",
    "                if f < fitness[best_idx]:\n",
    "                    best_idx = j\n",
    "                    best = trial\n",
    "            else:\n",
    "                failure_memory[i, strategy_num] += 1\n",
    "    for i in range (its):\n",
    "        success_sum = pd.DataFrame(success_memory).sum(axis = 0)\n",
    "        failure_sum = pd.DataFrame(failure_memory).sum(axis = 0)\n",
    "        skg = success_sum / failure_sum + 0.01\n",
    "        sp = skg / sum(skg)\n",
    "        success_memory[(i%lp)] = 0\n",
    "        failure_memory[(i%lp)] = 0\n",
    "        for j in range (popsize):\n",
    "            popj = population[j]\n",
    "            idxs = [idx for idx in range(popsize) if idx != j]\n",
    "            a, b, c, d, e = population[np.random.choice(idxs, 5, replace = False)]\n",
    "            strategy_num = -1\n",
    "            rand_sp = np.random.rand()\n",
    "            mut = random.gauss(0.5, 0.3)\n",
    "            if(rand_sp < sp[0]):\n",
    "                strategy_num = 0\n",
    "                cr_median_0 = statistics.median(cr_memory[0])\n",
    "                cr_0 = random.gauss(cr_median_0, 0.1)\n",
    "                if((cr < 0) or (cr > 1)):\n",
    "                    cr_0 = random.gauss(cr_median_0, 0.1)\n",
    "                trial = rand_1_bin(a, b, c, mut, min_b, max_b, popj, dimensions, cr_0)\n",
    "            elif(rand_sp < sum(sp[:2])):\n",
    "                strategy_num = 1\n",
    "                cr_median_1 = statistics.median(cr_memory[1])\n",
    "                cr_1 = random.gauss(cr_median_1, 0.1)\n",
    "                if((cr < 0) or (cr > 1)):\n",
    "                    cr_0 = random.gauss(cr_median_0, 0.1)\n",
    "                trial = rand_to_best_2_bin(a, b, c, d, mut, min_b, max_b, popj, dimensions, best, cr_1)\n",
    "            elif(rand_sp < sum(sp[:3])):\n",
    "                strategy_num = 2\n",
    "                cr_median_2 = statistics.median(cr_memory[2])\n",
    "                cr_2 = random.gauss(cr_median_2, 0.1)\n",
    "                if((cr < 0) or (cr > 1)):\n",
    "                    cr_0 = random.gauss(cr_median_0, 0.1)\n",
    "                trial = rand_2_bin(a, b, c, d, e, mut, min_b, max_b, popj, dimensions, cr_2)\n",
    "            else:\n",
    "                strategy_num = 3\n",
    "                trial = current_to_rand_1_bin(a, b, c, popj, mut, min_b, max_b)\n",
    "            f = fobj(trial)\n",
    "            if f < fitness[j]:\n",
    "                fitness[j] = f\n",
    "                population[j] = trial\n",
    "                cr_memory[strategy_num].append(cr)\n",
    "                success_memory[i%lp, strategy_num] += 1\n",
    "                if f < fitness[best_idx]:\n",
    "                    best_idx = j\n",
    "                    best = trial\n",
    "            else:\n",
    "                failure_memory[i%lp, strategy_num] += 1\n",
    "        if(np.fabs(min(fitness) - goal) < 1e-6):\n",
    "            break\n",
    "        yield best, fitness[best_idx]\n",
    "\n",
    "\n",
    "def rand_1_bin(a, b, c, mut, min_b, max_b, popj, dimensions, cr):\n",
    "    mutant = np.clip(a + mut * (b - c), min_b, max_b)\n",
    "    cross_points = np.random.rand(dimensions) < cr\n",
    "    if not np.any(cross_points):\n",
    "        cross_points[np.random.randint(0, dimensions)] = True\n",
    "    trial = np.where(cross_points, mutant, popj)\n",
    "    return trial\n",
    "\n",
    "\n",
    "def rand_to_best_2_bin(a, b, c, d, mut, min_b, max_b, popj, dimensions, best, cr):\n",
    "    mutant = np.clip(popj + mut * (best - popj) + mut * (a - b) + mut * (c - d), min_b, max_b)\n",
    "    cross_points = np.random.rand(dimensions) < cr\n",
    "    if not np.any(cross_points):\n",
    "        cross_points[np.random.randint(0, dimensions)] = True\n",
    "    trial = np.where(cross_points, mutant, popj)\n",
    "    return trial\n",
    "\n",
    "\n",
    "def rand_2_bin(a, b, c, d, e, mut, min_b, max_b, popj, dimensions, cr):\n",
    "    mutant = np.clip(a + mut * (b - c) + mut * (d - e), min_b, max_b)\n",
    "    cross_points = np.random.rand(dimensions) < cr\n",
    "    if not np.any(cross_points):\n",
    "        cross_points[np.random.randint(0, dimensions)] = True\n",
    "    trial = np.where(cross_points, mutant, popj)\n",
    "    return trial\n",
    "\n",
    "\n",
    "def current_to_rand_1_bin(a, b, c, popj, mut, min_b, max_b):\n",
    "    k = np.random.rand()\n",
    "    trial = np.clip(popj + k * (a - popj) + mut * (b - c), min_b, max_b)\n",
    "    return trial\n",
    "\n"
   ]
  },
  {
   "cell_type": "markdown",
   "metadata": {},
   "source": [
    "JADE"
   ]
  },
  {
   "cell_type": "code",
   "execution_count": 5,
   "metadata": {},
   "outputs": [],
   "source": [
    "import numpy as np\n",
    "import matplotlib.pyplot as plt\n",
    "import datetime\n",
    "import random\n",
    "from scipy.stats import cauchy\n",
    "\n",
    "\n",
    "def jade(fobj, bounds, popsize=20, its=1000, goal=0, c=0.5):\n",
    "    dimensions = len(bounds)\n",
    "    pop = np.random.rand(popsize, dimensions)\n",
    "    min_b, max_b = np.asarray(bounds).T\n",
    "    diff = np.fabs(min_b - max_b)\n",
    "    population = min_b + pop * diff\n",
    "    population_new = np.random.rand(popsize, dimensions)\n",
    "    for i in range(len(population_new)):\n",
    "        population_new[i] = pop[i]\n",
    "    mut = 0.5\n",
    "    mean_cr = 0.5\n",
    "    mean_mut = 0.5\n",
    "    a = []\n",
    "    for i in range(its):\n",
    "        s_mut = []\n",
    "        s_cr = []\n",
    "        matrix_sort(population, fobj, pop)\n",
    "        best = population[0]\n",
    "        fitness_best = fobj(best)\n",
    "        fitness = np.asarray([fobj(ind) for ind in population])\n",
    "        for j in range(popsize):\n",
    "            p = int(np.random.rand() * popsize)\n",
    "            idx_x_best_p = random.randint(0, p)\n",
    "            x_best_p = population[idx_x_best_p]\n",
    "            idxs = [idx for idx in range(popsize) if idx != j]\n",
    "            x_r1, x_r2 = population[np.random.choice(idxs, 2, replace=False)]\n",
    "            idx_x_r2 = random.randint(0, len(population) + len(a) - 3)\n",
    "            if idx_x_r2 >= (len(population) - 2):\n",
    "                x_r2 = a[idx_x_r2 - len(population) + 2]\n",
    "            mut = cauchy.rvs(loc=mean_mut, scale=0.1)\n",
    "            while mut < 0 or mut > 1:\n",
    "                mut = cauchy.rvs(loc=mean_mut, scale=0.1)\n",
    "            mutant = np.clip(population[j] + mut * (x_best_p - population[j]) + mut * (x_r1 - x_r2), min_b, max_b)\n",
    "            cr = random.gauss(mean_cr, 0.1)\n",
    "            cross_points = np.random.rand(dimensions) < cr\n",
    "            if not np.any(cross_points):\n",
    "                cross_points[np.random.randint(0, dimensions)] = True\n",
    "            trial = np.where(cross_points, mutant, population[j])\n",
    "            f = fobj(trial)\n",
    "            if f < fitness[j]:\n",
    "                population_new[j] = trial\n",
    "                a.append(population[j])\n",
    "                s_cr.append(cr)\n",
    "                s_mut.append(mut)\n",
    "            else:\n",
    "                population_new[j] = population[j]\n",
    "        while len(a) > popsize:\n",
    "            index = random.randint(0, len(a)-1)\n",
    "            a.pop(index)\n",
    "        for k in range(len(population_new)):\n",
    "            population[k] = population_new[k]\n",
    "        mean_cr = (1 - c) * mean_cr + c * np.mean(s_cr)\n",
    "        mean_mut = (1 - c) * mean_mut + c * (sum(ff ** 2 for ff in s_mut) / sum(s_mut))\n",
    "        if np.fabs(fitness_best - goal) < 1e-6:\n",
    "            break\n",
    "        yield best, fitness_best\n",
    "\n",
    "\n",
    "def matrix_sort(matrix, fobj, pop):\n",
    "    for i in range(len(matrix)):\n",
    "        for j in range(i, len(matrix)):\n",
    "            if fobj(matrix[i]) > fobj(matrix[j]):\n",
    "                pop[i] = matrix[i]\n",
    "                pop[j] = matrix[j]\n",
    "                matrix[i] = pop[j]\n",
    "                matrix[j] = pop[i]\n",
    "    return matrix"
   ]
  },
  {
   "cell_type": "markdown",
   "metadata": {},
   "source": [
    "自适应控制参数改进DE算法"
   ]
  },
  {
   "cell_type": "code",
   "execution_count": 6,
   "metadata": {},
   "outputs": [],
   "source": [
    "def sacpmde(fobj, bounds, popsize=20, its=1000, goal = 0):\n",
    "    dimensions = len(bounds)\n",
    "    pop = np.random.rand(popsize, dimensions)\n",
    "    min_b, max_b = np.asarray(bounds).T\n",
    "    diff = np.fabs(min_b - max_b)\n",
    "    population = min_b + pop * diff\n",
    "    fitness = np.asarray([fobj(ind) for ind in population])\n",
    "    best_idx = np.argmin(fitness)\n",
    "    best = population[best_idx]\n",
    "    for i in range(its):\n",
    "        for j in range(popsize):\n",
    "            idxs = [idx for idx in range(popsize) if idx != j]\n",
    "            select_idx = (np.random.choice(idxs, 3, replace = False)).tolist()\n",
    "            fit_select = [fitness[i1] for i1 in select_idx]\n",
    "            best1 = np.argmin(fit_select)\n",
    "            others = [n for n in range(len(select_idx)) if n != best1]\n",
    "            a_idx = select_idx[best1]\n",
    "            b_idx = select_idx[others[0]]\n",
    "            c_idx = select_idx[others[1]]\n",
    "            mut = 0.1 + (0.9 - 0.1)*((fitness[b_idx] - fitness[a_idx]) / (fitness[c_idx] - fitness[a_idx]))\n",
    "            mutant = np.clip(population[a_idx] + mut * (population[b_idx] - population[c_idx]), min_b, max_b)\n",
    "            crossp = 0.1\n",
    "            if(fitness[j] > np.mean(fitness)):\n",
    "                crossp = 0.1 + (0.6 - 0.1)*(fitness[j] - min(fitness) / (max(fitness) - min(fitness)))\n",
    "            cross_points = np.random.rand(dimensions) < crossp\n",
    "            if not np.any(cross_points):\n",
    "                cross_points[np.random.randint(0, dimensions)] = True\n",
    "            trial = np.where(cross_points, mutant, population[j])\n",
    "            f = fobj(trial)\n",
    "            if f < fitness[j]:\n",
    "                fitness[j] = f\n",
    "                population[j] = trial\n",
    "                if f < fitness[best_idx]:\n",
    "                    best_idx = j\n",
    "                    best = trial\n",
    "        if(np.fabs(min(fitness) - goal) < 1e-6):\n",
    "            break \n",
    "        yield best, fitness[best_idx]\n"
   ]
  },
  {
   "cell_type": "code",
   "execution_count": 8,
   "metadata": {},
   "outputs": [
    {
     "name": "stdout",
     "output_type": "stream",
     "text": [
      "(array([ 1.42401750e-08,  1.01424919e-05,  1.99670398e-06,  1.21291942e-05,\n",
      "        5.46833134e-06,  2.02481103e-05, -1.21605844e-05,  2.14652165e-05,\n",
      "        2.77321735e-05,  2.91496235e-05, -5.15525415e-06,  1.01378306e-05,\n",
      "       -2.73493793e-06,  3.85721486e-06,  1.26089134e-05,  1.50183732e-05,\n",
      "        7.52931487e-06,  2.70902441e-05, -1.08119590e-06, -6.17082636e-06,\n",
      "        5.80103200e-06, -6.22147817e-06,  3.84542879e-05,  2.26347456e-05,\n",
      "        7.32204370e-06, -6.85839635e-06, -1.53843153e-06, -3.70236219e-06,\n",
      "        3.24165576e-06, -9.35272798e-06]), 1.3025368446051289e-06)\n",
      "0:00:14.293133\n"
     ]
    },
    {
     "data": {
      "image/png": "[encoded data removed]",
      "text/plain": [
       "<Figure size 432x288 with 1 Axes>"
      ]
     },
     "metadata": {
      "needs_background": "light"
     },
     "output_type": "display_data"
    }
   ],
   "source": [
    "def Rastrigin(x):\n",
    "    return sum(x ** 2 - 10 * np.cos(2 * np.pi * x) + 10)\n",
    "def Rastrigin_de():\n",
    "    start = datetime.datetime.now()\n",
    "    it = list(de(Rastrigin, [(-5.12,5.12)] * 30, popsize = 100, its = 3000))\n",
    "    print(it[-1])\n",
    "    x, f = zip(*it)\n",
    "    plt.plot(f, label='Rastrigin with de rand 1 bin')\n",
    "    plt.yscale('log')\n",
    "    plt.legend()\n",
    "    end = datetime.datetime.now()\n",
    "    print(end - start)\n",
    "Rastrigin_de()"
   ]
  },
  {
   "cell_type": "code",
   "execution_count": 9,
   "metadata": {},
   "outputs": [
    {
     "name": "stdout",
     "output_type": "stream",
     "text": [
      "(array([-8.59671842e-11, -9.94958638e-01, -9.94958638e-01, -3.95589752e-10,\n",
      "       -5.21081098e-10,  2.98856350e-10, -1.58411050e-09,  1.09242489e-09,\n",
      "        9.94958638e-01,  3.70754237e-10,  4.57437809e-10,  1.02774883e-09,\n",
      "       -3.50585475e-10,  7.99476494e-10,  9.94958638e-01,  6.41444620e-10,\n",
      "        1.51231594e-09,  9.94958637e-01,  9.94958637e-01,  5.74818782e-10,\n",
      "       -9.94958638e-01,  1.18466797e-09,  1.42262641e-09,  4.70238613e-10,\n",
      "       -8.69733587e-10, -5.09508015e-10, -4.50530945e-11, -1.20084655e-09,\n",
      "        9.94958638e-01, -9.94958638e-01]), 8.954631513839614)\n",
      "0:00:26.665379\n"
     ]
    },
    {
     "data": {
      "image/png": "[encoded data removed]",
      "text/plain": [
       "<Figure size 432x288 with 1 Axes>"
      ]
     },
     "metadata": {
      "needs_background": "light"
     },
     "output_type": "display_data"
    }
   ],
   "source": [
    "def Rastrigin_jde():\n",
    "    start = datetime.datetime.now()\n",
    "    it = list(jde(Rastrigin, [(-5.12,5.12)] * 30, popsize = 100, its = 3000))\n",
    "    print(it[-1])\n",
    "    x, f = zip(*it)\n",
    "    plt.plot(f, label='Rastrigin with jde')\n",
    "    plt.yscale('log')\n",
    "    plt.legend()\n",
    "    end = datetime.datetime.now()\n",
    "    print(end - start)\n",
    "Rastrigin_jde()"
   ]
  },
  {
   "cell_type": "code",
   "execution_count": 10,
   "metadata": {},
   "outputs": [
    {
     "name": "stdout",
     "output_type": "stream",
     "text": [
      "(array([-5.17315784e-06,  1.00468744e-05, -2.77177190e-06, -4.21764219e-06,\n",
      "       -1.01314680e-05,  1.58380798e-05,  3.17122740e-05, -2.08861090e-06,\n",
      "        8.04659157e-06,  5.66856007e-06, -9.24027933e-06, -1.50652696e-06,\n",
      "       -4.97022422e-06, -1.91897031e-05,  1.55184304e-05, -8.14611535e-06,\n",
      "       -2.57663038e-05, -9.39150791e-06,  1.85017864e-06, -1.54494248e-05,\n",
      "        8.97886413e-06, -2.56814342e-05,  7.60028851e-06, -1.59000137e-05,\n",
      "       -1.05639297e-05,  1.20950855e-05,  1.96534026e-06, -1.40491533e-05,\n",
      "       -1.98079897e-05,  1.94359584e-05]), 1.1259820968945178e-06)\n",
      "0:00:38.111364\n"
     ]
    },
    {
     "data": {
      "image/png": "[encoded data removed]",
      "text/plain": [
       "<Figure size 432x288 with 1 Axes>"
      ]
     },
     "metadata": {
      "needs_background": "light"
     },
     "output_type": "display_data"
    }
   ],
   "source": [
    "def Rastrigin_sade():\n",
    "    start = datetime.datetime.now()\n",
    "    it = list(sade(Rastrigin, [(-5.12,5.12)] * 30, popsize = 100, its = 3000))\n",
    "    print(it[-1])\n",
    "    x, f = zip(*it)\n",
    "    plt.plot(f, label='Rastrigin with sade')\n",
    "    plt.yscale('log')\n",
    "    plt.legend()\n",
    "    end = datetime.datetime.now()\n",
    "    print(end - start)\n",
    "Rastrigin_sade()"
   ]
  },
  {
   "cell_type": "code",
   "execution_count": 11,
   "metadata": {},
   "outputs": [
    {
     "name": "stdout",
     "output_type": "stream",
     "text": [
      "(array([-3.34452512e-08,  8.13006965e-10,  5.41550215e-07,  2.83808852e-06,\n",
      "       -3.68365092e-08, -1.02905336e-06, -2.45247884e-07, -9.78028242e-07,\n",
      "        1.14186257e-07, -7.39269181e-06, -1.54894747e-08, -2.47501079e-07,\n",
      "        6.58427216e-09,  3.86019109e-05,  5.18006747e-07,  3.49608374e-07,\n",
      "        1.40357110e-06,  3.05492306e-06, -5.22745320e-07, -2.72717982e-07,\n",
      "       -7.72600323e-06, -8.70364856e-06,  1.80047841e-06, -2.20055330e-06,\n",
      "       -4.04073311e-07, -3.95639451e-07, -4.44488967e-08,  1.19102193e-06,\n",
      "       -1.85059137e-07,  3.24343370e-07]), 1.1495792797688864e-06)\n",
      "0:04:30.114609\n"
     ]
    },
    {
     "data": {
      "image/png": "[encoded data removed]",
      "text/plain": [
       "<Figure size 432x288 with 1 Axes>"
      ]
     },
     "metadata": {
      "needs_background": "light"
     },
     "output_type": "display_data"
    }
   ],
   "source": [
    "def Rastrigin_jade():\n",
    "    start = datetime.datetime.now()\n",
    "    it = list(jade(Rastrigin, [(-5.12,5.12)] * 30, popsize = 100, its = 3000))\n",
    "    print(it[-1])\n",
    "    x, f = zip(*it)\n",
    "    plt.plot(f, label='Rastrigin with jade')\n",
    "    plt.yscale('log')\n",
    "    plt.legend()\n",
    "    end = datetime.datetime.now()\n",
    "    print(end - start)\n",
    "Rastrigin_jade()"
   ]
  },
  {
   "cell_type": "code",
   "execution_count": 12,
   "metadata": {},
   "outputs": [
    {
     "name": "stdout",
     "output_type": "stream",
     "text": [
      "(array([ 1.66465605e-05,  1.02771363e-05,  2.48774519e-05,  1.79381589e-06,\n",
      "        1.00081437e-05,  2.17538637e-05,  2.01063185e-05, -2.54628166e-05,\n",
      "        4.11343063e-06,  9.84129804e-06, -1.16429412e-05,  1.60156626e-06,\n",
      "        1.98101050e-06, -1.07777358e-05,  2.04188655e-05, -8.74199752e-06,\n",
      "        1.47525151e-06,  1.63724950e-05, -1.98887883e-05,  1.01438196e-05,\n",
      "       -1.29948591e-05,  1.82961074e-05, -1.12559101e-05, -1.09370445e-05,\n",
      "       -1.36666697e-05, -2.06440758e-06, -6.69035513e-06, -2.25223058e-05,\n",
      "       -7.30339776e-07,  1.68566047e-05]), 1.198790970491359e-06)\n",
      "0:00:20.706974\n"
     ]
    },
    {
     "data": {
      "image/png": "[encoded data removed]",
      "text/plain": [
       "<Figure size 432x288 with 1 Axes>"
      ]
     },
     "metadata": {
      "needs_background": "light"
     },
     "output_type": "display_data"
    }
   ],
   "source": [
    "def Rastrigin_sacpmde():\n",
    "    start = datetime.datetime.now()\n",
    "    it = list(sacpmde(Rastrigin, [(-5.12,5.12)] * 30, popsize = 100, its = 3000))\n",
    "    print(it[-1])\n",
    "    x, f = zip(*it)\n",
    "    plt.plot(f, label='Rastrigin with sacpmde')\n",
    "    plt.yscale('log')\n",
    "    plt.legend()\n",
    "    end = datetime.datetime.now()\n",
    "    print(end - start)\n",
    "Rastrigin_sacpmde()"
   ]
  },
  {
   "cell_type": "code",
   "execution_count": null,
   "metadata": {},
   "outputs": [],
   "source": []
  }
 ],
 "metadata": {
  "kernelspec": {
   "display_name": "Python 3",
   "language": "python",
   "name": "python3"
  },
  "language_info": {
   "codemirror_mode": {
    "name": "ipython",
    "version": 3
   },
   "file_extension": ".py",
   "mimetype": "text/x-python",
   "name": "python",
   "nbconvert_exporter": "python",
   "pygments_lexer": "ipython3",
   "version": "3.7.9"
  }
 },
 "nbformat": 4,
 "nbformat_minor": 4
}
