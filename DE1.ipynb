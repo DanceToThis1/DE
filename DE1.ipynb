{
 "cells": [
  {
   "cell_type": "markdown",
   "metadata": {},
   "source": [
    "### 自适应变化参数"
   ]
  },
  {
   "cell_type": "code",
   "execution_count": 44,
   "metadata": {},
   "outputs": [],
   "source": [
    "import numpy as np\n",
    "import matplotlib.pyplot as plt\n",
    "import datetime\n",
    "\n",
    "def de2(fobj, bounds, popsize=20, its=1000, gap = 0.00001):\n",
    "    dimensions = len(bounds)\n",
    "    pop = np.random.rand(popsize, dimensions)\n",
    "    min_b, max_b = np.asarray(bounds).T\n",
    "    diff = np.fabs(min_b - max_b)\n",
    "    pop_denorm = min_b + pop * diff\n",
    "    fitness = np.asarray([fobj(ind) for ind in pop_denorm])\n",
    "    best_idx = np.argmin(fitness)\n",
    "    best = pop_denorm[best_idx]\n",
    "    for i in range(its):\n",
    "        for j in range(popsize):\n",
    "            idxs = [idx for idx in range(popsize) if idx != j]\n",
    "            select_idx = (np.random.choice(idxs, 3, replace = False)).tolist()\n",
    "            fit_select = [fitness[i1] for i1 in select_idx]\n",
    "            best1 = np.argmin(fit_select)\n",
    "            others = [n for n in range(len(select_idx)) if n != best1]\n",
    "            a = pop[select_idx[best1]]\n",
    "            b = pop[select_idx[others[0]]]\n",
    "            c = pop[select_idx[others[1]]]\n",
    "            mut = 0.1 + (0.9 - 0.1)*((fitness[select_idx[others[0]]] - fitness[select_idx[best1]]) / (fitness[select_idx[others[1]]] - fitness[select_idx[best1]]))\n",
    "            mutant = np.clip(a + mut * (b - c), 0, 1)\n",
    "            crossp = 0.1\n",
    "            if(fitness[j] > np.mean(fitness)):\n",
    "                crossp = 0.1 + (0.6 - 0.1)*(fitness[j] - min(fitness) / (max(fitness) - min(fitness)))\n",
    "            cross_points = np.random.rand(dimensions) < crossp\n",
    "            if not np.any(cross_points):\n",
    "                cross_points[np.random.randint(0, dimensions)] = True\n",
    "            trial = np.where(cross_points, mutant, pop[j])\n",
    "            trial_denorm = min_b + trial * diff\n",
    "            f = fobj(trial_denorm)\n",
    "            if f < fitness[j]:\n",
    "                fitness[j] = f\n",
    "                pop[j] = trial\n",
    "                if f < fitness[best_idx]:\n",
    "                    best_idx = j\n",
    "                    best = trial_denorm\n",
    "        if(min(fitness) < gap):\n",
    "            break\n",
    "        yield best, fitness[best_idx]\n"
   ]
  },
  {
   "cell_type": "markdown",
   "metadata": {},
   "source": [
    "### 固定参数"
   ]
  },
  {
   "cell_type": "code",
   "execution_count": 39,
   "metadata": {},
   "outputs": [],
   "source": [
    "import numpy as np\n",
    "import matplotlib.pyplot as plt\n",
    "import datetime\n",
    "\n",
    "def de(fobj, bounds, mut=0.8, crossp=0.7, popsize=20, its=1000, gap = 0.00001):\n",
    "    dimensions = len(bounds)\n",
    "    pop = np.random.rand(popsize, dimensions)\n",
    "    min_b, max_b = np.asarray(bounds).T\n",
    "    diff = np.fabs(min_b - max_b)\n",
    "    pop_denorm = min_b + pop * diff\n",
    "    fitness = np.asarray([fobj(ind) for ind in pop_denorm])\n",
    "    best_idx = np.argmin(fitness)\n",
    "    best = pop_denorm[best_idx]\n",
    "    for i in range(its):\n",
    "        for j in range(popsize):\n",
    "            idxs = [idx for idx in range(popsize) if idx != j]\n",
    "            a, b, c = pop[np.random.choice(idxs, 3, replace = False)]\n",
    "            mutant = np.clip(a + mut * (b - c), 0, 1)\n",
    "            cross_points = np.random.rand(dimensions) < crossp\n",
    "            if not np.any(cross_points):\n",
    "                cross_points[np.random.randint(0, dimensions)] = True\n",
    "            trial = np.where(cross_points, mutant, pop[j])\n",
    "            trial_denorm = min_b + trial * diff\n",
    "            f = fobj(trial_denorm)\n",
    "            if f < fitness[j]:\n",
    "                fitness[j] = f\n",
    "                pop[j] = trial\n",
    "                if f < fitness[best_idx]:\n",
    "                    best_idx = j\n",
    "                    best = trial_denorm\n",
    "        if(min(fitness) < gap):\n",
    "            break    \n",
    "        yield best, fitness[best_idx]"
   ]
  },
  {
   "cell_type": "code",
   "execution_count": 53,
   "metadata": {},
   "outputs": [
    {
     "name": "stdout",
     "output_type": "stream",
     "text": [
      "(array([ 1.47940284e-04,  1.00227272e-05, -9.25348406e-05, -3.69943652e-05,\n",
      "       -1.62438097e-05, -1.02492736e-04,  2.47278711e-05,  8.00738110e-05,\n",
      "       -3.92753523e-05,  1.63176651e-04]), 1.1735424932268756e-05)\n",
      "0:00:04.953943\n"
     ]
    },
    {
     "data": {
      "image/png": "[encoded data removed]",
      "text/plain": [
       "<Figure size 432x288 with 1 Axes>"
      ]
     },
     "metadata": {
      "needs_background": "light"
     },
     "output_type": "display_data"
    }
   ],
   "source": [
    "def fobj(x):\n",
    "    return sum(x ** 2 - 10 * np.cos(2 * np.pi * x) + 10)\n",
    "\n",
    "def fobj_test():\n",
    "    it = list(de2(fobj, [(-10,10)] * 10, popsize = 100, its = 1000))\n",
    "    print(it[-1])\n",
    "    x, f = zip(*it)\n",
    "    plt.plot(f, label='x**2-10cos(2pi*x)+10 with adaptive parameters')\n",
    "#     plt.xscale('log')\n",
    "    plt.yscale('log')\n",
    "    plt.legend() \n",
    "start = datetime.datetime.now()\n",
    "fobj_test()\n",
    "end = datetime.datetime.now()\n",
    "print(end - start)"
   ]
  },
  {
   "cell_type": "code",
   "execution_count": 54,
   "metadata": {},
   "outputs": [
    {
     "name": "stdout",
     "output_type": "stream",
     "text": [
      "(array([-2.66769483e-02,  9.43635052e-04,  1.02766673e+00,  9.34290136e-01,\n",
      "       -8.66666516e-01, -1.02639489e+00,  8.47230242e-01,  1.05279639e+00,\n",
      "       -4.50733061e-02,  9.53768286e-01]), 16.675702821574717)\n",
      "0:00:08.291343\n"
     ]
    },
    {
     "data": {
      "image/png": "[encoded data removed]",
      "text/plain": [
       "<Figure size 432x288 with 1 Axes>"
      ]
     },
     "metadata": {
      "needs_background": "light"
     },
     "output_type": "display_data"
    }
   ],
   "source": [
    "def fobj_test1():\n",
    "    it = list(de(fobj, [(-10,10)] * 10, mut = 0.5, crossp = 0.9, popsize = 100, its = 1000))\n",
    "    print(it[-1])\n",
    "    x, f = zip(*it)\n",
    "    plt.plot(f, label='x**2-10cos(2pi*x)+10 with f = 0.5, cr = 0.9, np = 100')\n",
    "#     plt.xscale('log')\n",
    "    plt.yscale('log')\n",
    "    plt.legend() \n",
    "start = datetime.datetime.now()\n",
    "fobj_test1()\n",
    "end = datetime.datetime.now()\n",
    "print(end - start)"
   ]
  },
  {
   "cell_type": "markdown",
   "metadata": {},
   "source": [
    "### 线性变化参数，设置cr"
   ]
  },
  {
   "cell_type": "code",
   "execution_count": null,
   "metadata": {},
   "outputs": [],
   "source": [
    "#             mut = (0.9 - 0.4)*(its - i)/ its + 0.4 \n",
    "#             crossp = 0.3 + (0.9 - 0.3) * (i / its)\n",
    "#             mut = (0.9 - 0.4) * (its ** 2 - i ** 2) ** 0.5 / its + 0.4\n",
    "#             crossp = 0.3 + (0.9 - 0.3) * (i ** 2 / its ** 2)"
   ]
  }
 ],
 "metadata": {
  "kernelspec": {
   "display_name": "Python 3",
   "language": "python",
   "name": "python3"
  },
  "language_info": {
   "codemirror_mode": {
    "name": "ipython",
    "version": 3
   },
   "file_extension": ".py",
   "mimetype": "text/x-python",
   "name": "python",
   "nbconvert_exporter": "python",
   "pygments_lexer": "ipython3",
   "version": "3.7.9"
  }
 },
 "nbformat": 4,
 "nbformat_minor": 4
}
